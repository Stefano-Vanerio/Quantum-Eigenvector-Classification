{
 "cells": [
  {
   "cell_type": "markdown",
   "source": [
    " # Darknet Experiment"
   ],
   "metadata": {
    "collapsed": false,
    "pycharm": {
     "name": "#%% md\n"
    }
   }
  },
  {
   "cell_type": "markdown",
   "source": [
    "## Train the model"
   ],
   "metadata": {
    "collapsed": false,
    "pycharm": {
     "name": "#%% md\n"
    }
   }
  },
  {
   "cell_type": "code",
   "execution_count": 62,
   "outputs": [],
   "source": [
    "import numpy as np\n",
    "\n",
    "org_dataset = np.load('drk_train.npy')\n",
    "num_components = len(org_dataset)\n",
    "org_dataset = np.array(org_dataset, dtype='float')"
   ],
   "metadata": {
    "collapsed": false,
    "pycharm": {
     "name": "#%%\n"
    }
   }
  },
  {
   "cell_type": "code",
   "execution_count": 63,
   "outputs": [],
   "source": [
    "mean_vector = np.mean(org_dataset, axis=0)\n",
    "dataset = org_dataset - mean_vector"
   ],
   "metadata": {
    "collapsed": false,
    "pycharm": {
     "name": "#%%\n"
    }
   }
  },
  {
   "cell_type": "code",
   "execution_count": 64,
   "outputs": [
    {
     "data": {
      "text/plain": "array([[-9.26686268e-02,  2.18674800e-01,  7.11552464e-02, ...,\n         2.81576714e-02,  1.68889283e-01,  1.38801445e-01],\n       [ 1.50134123e-02, -1.16753499e-01,  2.45395218e-01, ...,\n        -3.88579634e-02, -4.66591686e-02, -2.72408536e-02],\n       [ 6.19410055e-02,  7.82407995e-02,  2.50027346e-01, ...,\n         4.89071260e-03, -3.17631709e-02, -2.14592807e-02],\n       ...,\n       [ 1.23505384e-08, -9.90638648e-09,  2.08366938e-09, ...,\n         3.20654147e-09, -8.16094818e-09,  3.05983641e-09],\n       [ 6.01062421e-16, -6.87622221e-16,  7.59483803e-16, ...,\n        -3.19189120e-16,  1.05471187e-15,  4.16333634e-17],\n       [ 0.00000000e+00,  3.45209972e-16, -2.27689644e-15, ...,\n        -1.11022302e-16, -2.01227923e-16,  4.16333634e-17]])"
     },
     "execution_count": 64,
     "metadata": {},
     "output_type": "execute_result"
    }
   ],
   "source": [
    "from sklearn.decomposition import PCA\n",
    "pca = PCA()\n",
    "pca.fit_transform(dataset)\n",
    "eig_vectors = pca.components_\n",
    "eig_vectors"
   ],
   "metadata": {
    "collapsed": false,
    "pycharm": {
     "name": "#%%\n"
    }
   }
  },
  {
   "cell_type": "code",
   "execution_count": 65,
   "outputs": [],
   "source": [
    "ratio = pca.explained_variance_ratio_"
   ],
   "metadata": {
    "collapsed": false,
    "pycharm": {
     "name": "#%%\n"
    }
   }
  },
  {
   "cell_type": "markdown",
   "source": [
    "### Find the eigenvectors that describe most of the signals"
   ],
   "metadata": {
    "collapsed": false,
    "pycharm": {
     "name": "#%% md\n"
    }
   }
  },
  {
   "cell_type": "code",
   "execution_count": 66,
   "outputs": [
    {
     "name": "stdout",
     "output_type": "stream",
     "text": [
      "Number of components to capture 80.0% energy: 13\n"
     ]
    }
   ],
   "source": [
    "q = 0.80\n",
    "k = 0\n",
    "energy = 0\n",
    "\n",
    "while energy < q:\n",
    "    energy = energy+ratio[k]\n",
    "    k=k+1\n",
    "\n",
    "print(\"Number of components to capture \"+ str(q*100)+\"% energy:\", k)\n",
    "eigen_faces = eig_vectors"
   ],
   "metadata": {
    "collapsed": false,
    "pycharm": {
     "name": "#%%\n"
    }
   }
  },
  {
   "cell_type": "code",
   "execution_count": 67,
   "outputs": [],
   "source": [
    "reduced_data = np.array(eigen_faces[:k]).transpose()"
   ],
   "metadata": {
    "collapsed": false,
    "pycharm": {
     "name": "#%%\n"
    }
   }
  },
  {
   "cell_type": "markdown",
   "source": [
    "## Compute the weights for the train samples"
   ],
   "metadata": {
    "collapsed": false,
    "pycharm": {
     "name": "#%% md\n"
    }
   }
  },
  {
   "cell_type": "code",
   "execution_count": 68,
   "outputs": [],
   "source": [
    "w = np.array([np.dot(reduced_data.transpose(),i) for i in dataset])"
   ],
   "metadata": {
    "collapsed": false,
    "pycharm": {
     "name": "#%%\n"
    }
   }
  },
  {
   "cell_type": "markdown",
   "source": [
    "## Test an unknown sample"
   ],
   "metadata": {
    "collapsed": false,
    "pycharm": {
     "name": "#%% md\n"
    }
   }
  },
  {
   "cell_type": "code",
   "execution_count": 69,
   "outputs": [],
   "source": [
    "test = np.load('drk_test.npy')"
   ],
   "metadata": {
    "collapsed": false,
    "pycharm": {
     "name": "#%%\n"
    }
   }
  },
  {
   "cell_type": "code",
   "execution_count": 70,
   "outputs": [],
   "source": [
    "test_norm = test - mean_vector"
   ],
   "metadata": {
    "collapsed": false,
    "pycharm": {
     "name": "#%%\n"
    }
   }
  },
  {
   "cell_type": "code",
   "execution_count": 71,
   "outputs": [
    {
     "data": {
      "text/plain": "array([ 1.27950857,  1.08107416, -2.04226863, -0.44172001,  2.34844625,\n       -1.69356681, -0.87441444,  0.67783362, -0.87740178,  0.01691007,\n        0.64644521,  0.72249603,  0.27772603])"
     },
     "execution_count": 71,
     "metadata": {},
     "output_type": "execute_result"
    }
   ],
   "source": [
    "w_unknown = np.dot(reduced_data.transpose(), test_norm[6000])\n",
    "w_unknown"
   ],
   "metadata": {
    "collapsed": false,
    "pycharm": {
     "name": "#%%\n"
    }
   }
  },
  {
   "cell_type": "code",
   "execution_count": 72,
   "outputs": [
    {
     "data": {
      "text/plain": "0.04486125769152447"
     },
     "execution_count": 72,
     "metadata": {},
     "output_type": "execute_result"
    }
   ],
   "source": [
    "diff  = w - w_unknown\n",
    "norms = np.linalg.norm(diff, axis=1)\n",
    "min(norms)"
   ],
   "metadata": {
    "collapsed": false,
    "pycharm": {
     "name": "#%%\n"
    }
   }
  },
  {
   "cell_type": "markdown",
   "source": [
    "## Use the validation set to tune the hyperparameter bound"
   ],
   "metadata": {
    "collapsed": false,
    "pycharm": {
     "name": "#%% md\n"
    }
   }
  },
  {
   "cell_type": "code",
   "execution_count": 73,
   "outputs": [],
   "source": [
    "test = np.load('drk_vali.npy')\n",
    "test_norm = test - mean_vector\n",
    "\n",
    "count   = 0\n",
    "correct_pred = 0\n",
    "wrong_neg = 0\n",
    "true_neg = 0\n",
    "wrong_pos = 0\n",
    "true_pos = 0\n",
    "params = list()\n",
    "\n",
    "def recogniser(vector, proj_data, w, bound, error):\n",
    "    global count, correct_pred, wrong_neg, true_neg, wrong_pos, true_pos\n",
    "    count += 1\n",
    "\n",
    "    w_unknown = np.dot(proj_data.transpose(), vector)\n",
    "\n",
    "    if error:\n",
    "        vector = np.random.normal(0, 1/3, w_unknown.shape[0])\n",
    "        w_unknown = w_unknown + error * vector/np.linalg.norm(vector) * np.linalg.norm(w_unknown)\n",
    "\n",
    "    diff  = w - w_unknown\n",
    "\n",
    "\n",
    "    norms = np.linalg.norm(diff, axis=1)\n",
    "    params = np.min(norms)\n",
    "\n",
    "    if(count > 5000):\n",
    "        if(params <= bound):\n",
    "            correct_pred+=1\n",
    "            true_neg+=1\n",
    "        else:\n",
    "            wrong_pos +=1\n",
    "    if(count <= 5000):\n",
    "        if(params > bound):\n",
    "            correct_pred+=1\n",
    "            true_pos+=1\n",
    "        else:\n",
    "            wrong_neg +=1\n",
    "\n",
    "bound = 0.0\n",
    "number = list()\n",
    "predictions = list()\n",
    "predictions_f1 = list()\n",
    "c=0\n",
    "for j in range(0, 130, 1):\n",
    "    for i in test_norm:\n",
    "        recogniser(i, reduced_data, w, bound+j/100, error=0.00)\n",
    "        c= c+1\n",
    "    predictions.append(correct_pred/count*100.00)\n",
    "    acc = correct_pred/count\n",
    "    pre = true_pos/(wrong_neg+true_pos)\n",
    "    rec = true_pos/(wrong_pos+true_pos)\n",
    "    predictions_f1.append(2*pre*rec/(pre+rec)*100.00)\n",
    "    count   = 0\n",
    "    correct_pred = 0\n",
    "    wrong_neg = 0\n",
    "    true_neg = 0\n",
    "    wrong_pos = 0\n",
    "    true_pos = 0\n",
    "    number.append(j/100)\n",
    "print('finish')"
   ],
   "metadata": {
    "collapsed": false,
    "pycharm": {
     "name": "#%%\n"
    }
   }
  },
  {
   "cell_type": "markdown",
   "source": [
    "## Maximize Accuracy and F1 score"
   ],
   "metadata": {
    "collapsed": false,
    "pycharm": {
     "name": "#%% md\n"
    }
   }
  },
  {
   "cell_type": "code",
   "execution_count": 75,
   "outputs": [],
   "source": [
    "np.argmax(predictions)/100"
   ],
   "metadata": {
    "collapsed": false,
    "pycharm": {
     "name": "#%%\n"
    }
   }
  },
  {
   "cell_type": "code",
   "execution_count": 76,
   "outputs": [],
   "source": [
    "np.argmax(predictions_f1)/100"
   ],
   "metadata": {
    "collapsed": false,
    "pycharm": {
     "name": "#%%\n"
    }
   }
  },
  {
   "cell_type": "code",
   "execution_count": 77,
   "outputs": [],
   "source": [
    "bound = predictions_f1[np.argmax(predictions_f1)]"
   ],
   "metadata": {
    "collapsed": false,
    "pycharm": {
     "name": "#%%\n"
    }
   }
  },
  {
   "cell_type": "code",
   "execution_count": 78,
   "outputs": [],
   "source": [
    "import matplotlib.pyplot as plt\n",
    "\n",
    "plt.plot(number, predictions, label='Accuracy Validation')\n",
    "plt.plot(number, predictions_f1, label='F1 Validation')\n",
    "plt.legend()\n",
    "\n",
    "plt.xlabel('Bounds')\n",
    "plt.ylabel('Accuracy / F1')\n",
    "plt.title('Histogram')\n",
    "plt.grid(True)\n",
    "plt.show()"
   ],
   "metadata": {
    "collapsed": false,
    "pycharm": {
     "name": "#%%\n"
    }
   }
  },
  {
   "cell_type": "markdown",
   "source": [
    "# Test dataset"
   ],
   "metadata": {
    "collapsed": false,
    "pycharm": {
     "name": "#%% md\n"
    }
   }
  },
  {
   "cell_type": "code",
   "execution_count": 87,
   "outputs": [
    {
     "name": "stdout",
     "output_type": "stream",
     "text": [
      "10000\n",
      "Accuracy: 9868/10000 = 98.68%\n",
      "Precision: 4926/5000 = 98.52%\n",
      "Recall: 4926/4984 = 98.83627608346708%\n",
      "F1 score: 98.6778846153846%\n"
     ]
    }
   ],
   "source": [
    "test = np.load('drk_test.npy')\n",
    "test_norm = test - mean_vector\n",
    "count   = 0\n",
    "correct_pred = 0\n",
    "wrong_neg = 0\n",
    "true_neg = 0\n",
    "wrong_pos = 0\n",
    "true_pos = 0\n",
    "params = list()\n",
    "\n",
    "def recogniser(vector, proj_data, w, error):\n",
    "    global count, correct_pred, wrong_neg, true_neg, wrong_pos, true_pos\n",
    "    count += 1\n",
    "\n",
    "    w_unknown = np.dot(proj_data.transpose(), vector)\n",
    "\n",
    "    diff  = w - w_unknown\n",
    "\n",
    "    norms = np.linalg.norm(diff, axis=1)\n",
    "\n",
    "    if error:\n",
    "        value = np.random.normal(0, error/3, norms.shape[0])\n",
    "        norms = norms + value*norms\n",
    "\n",
    "    params = np.min(norms)\n",
    "\n",
    "    if(count > 5000):\n",
    "        if(params <= bound):\n",
    "            correct_pred+=1\n",
    "            true_neg+=1\n",
    "        else:\n",
    "            wrong_pos +=1\n",
    "    if(count <= 5000):\n",
    "        if(params > bound):\n",
    "            correct_pred+=1\n",
    "            true_pos+=1\n",
    "        else:\n",
    "            wrong_neg +=1\n",
    "\n",
    "print(len(test_norm))\n",
    "for i in test_norm:\n",
    "    recogniser(i, reduced_data, w, error=0.1)\n",
    "\n",
    "acc = correct_pred/count\n",
    "pre = true_pos/(wrong_neg+true_pos)\n",
    "rec = true_pos/(wrong_pos+true_pos)\n",
    "f1 = 2*pre*rec/(pre+rec)\n",
    "print('Accuracy: {}/{} = {}%'.format(correct_pred, count, acc*100.00))\n",
    "print('Precision: {}/{} = {}%'.format(true_pos, (wrong_neg+true_pos), pre*100.00))\n",
    "print('Recall: {}/{} = {}%'.format(true_pos, (wrong_pos+true_pos), rec*100.00))\n",
    "print('F1 score: {}%'.format(f1*100.00))"
   ],
   "metadata": {
    "collapsed": false,
    "pycharm": {
     "name": "#%%\n"
    }
   }
  }
 ],
 "metadata": {
  "kernelspec": {
   "display_name": "Python 3",
   "language": "python",
   "name": "python3"
  },
  "language_info": {
   "codemirror_mode": {
    "name": "ipython",
    "version": 2
   },
   "file_extension": ".py",
   "mimetype": "text/x-python",
   "name": "python",
   "nbconvert_exporter": "python",
   "pygments_lexer": "ipython2",
   "version": "2.7.6"
  }
 },
 "nbformat": 4,
 "nbformat_minor": 0
}